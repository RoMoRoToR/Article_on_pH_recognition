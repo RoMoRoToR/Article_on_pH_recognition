{
 "cells": [
  {
   "cell_type": "code",
   "execution_count": 44,
   "id": "b3eb599bb10d2ab2",
   "metadata": {
    "collapsed": false,
    "ExecuteTime": {
     "end_time": "2024-03-12T10:06:07.251504Z",
     "start_time": "2024-03-12T10:06:07.239985Z"
    }
   },
   "outputs": [],
   "source": [
    "import cv2\n",
    "import numpy as np\n",
    "from scipy.spatial import distance\n",
    "from matplotlib import pyplot as plt\n",
    "from scipy.interpolate import griddata\n"
   ]
  },
  {
   "cell_type": "code",
   "outputs": [],
   "source": [
    "def convert_to_LAB_and_back(image):\n",
    "    \"\"\"Коррекция изображения через преобразование в LAB и обратно.\"\"\"\n",
    "    lab_image = cv2.cvtColor(image, cv2.COLOR_BGR2Lab)\n",
    "    l, a, b = cv2.split(lab_image)\n",
    "    corrected_lab_image = cv2.merge([l, a, b])\n",
    "    corrected_rgb_image = cv2.cvtColor(corrected_lab_image, cv2.COLOR_Lab2BGR)\n",
    "    return corrected_rgb_image\n"
   ],
   "metadata": {
    "collapsed": false,
    "ExecuteTime": {
     "end_time": "2024-03-12T10:06:07.267221Z",
     "start_time": "2024-03-12T10:06:07.254506Z"
    }
   },
   "id": "180f66abd0a433fe",
   "execution_count": 45
  },
  {
   "cell_type": "code",
   "outputs": [],
   "source": [
    "def find_nearest_samples(sample_color, test_samples):\n",
    "    \"\"\"Поиск ближайших образцов по цвету.\"\"\"\n",
    "    closest_samples = sorted(test_samples.keys(), key=lambda color: distance.euclidean(color, sample_color))\n",
    "    return closest_samples[:2]\n"
   ],
   "metadata": {
    "collapsed": false,
    "ExecuteTime": {
     "end_time": "2024-03-12T10:06:07.281888Z",
     "start_time": "2024-03-12T10:06:07.269794Z"
    }
   },
   "id": "3b7da6016d247f7a",
   "execution_count": 46
  },
  {
   "cell_type": "code",
   "outputs": [],
   "source": [
    "def interpolate(color, color1, ph1, color2, ph2):\n",
    "    \"\"\"Интерполяция для оценки pH.\"\"\"\n",
    "    color = np.array(color)\n",
    "    color1 = np.array(color1)\n",
    "    color2 = np.array(color2)\n",
    "    if np.array_equal(color, color1): return ph1\n",
    "    if np.array_equal(color, color2): return ph2\n",
    "    weight1 = 1 / np.linalg.norm(color - color1) if not np.array_equal(color, color1) else 0\n",
    "    weight2 = 1 / np.linalg.norm(color - color2) if not np.array_equal(color, color2) else 0\n",
    "    return (ph1 * weight1 + ph2 * weight2) / (weight1 + weight2) if weight1 + weight2 else np.nan\n"
   ],
   "metadata": {
    "collapsed": false,
    "ExecuteTime": {
     "end_time": "2024-03-12T10:06:07.297296Z",
     "start_time": "2024-03-12T10:06:07.284884Z"
    }
   },
   "id": "cb8fcac26e7766e4",
   "execution_count": 47
  },
  {
   "cell_type": "code",
   "outputs": [],
   "source": [
    "# Загрузка и коррекция изображения\n",
    "image_path = 'image/6.0.png'\n",
    "image = cv2.imread(image_path)\n",
    "image_corrected = convert_to_LAB_and_back(image)"
   ],
   "metadata": {
    "collapsed": false,
    "ExecuteTime": {
     "end_time": "2024-03-12T10:06:07.312963Z",
     "start_time": "2024-03-12T10:06:07.299812Z"
    }
   },
   "id": "5cec32915570acaf",
   "execution_count": 48
  },
  {
   "cell_type": "code",
   "outputs": [],
   "source": [
    "# Обнаружение кругов\n",
    "gray = cv2.cvtColor(image_corrected, cv2.COLOR_BGR2GRAY)\n",
    "blurred = cv2.GaussianBlur(gray, (9, 9), 0)\n",
    "circles = cv2.HoughCircles(blurred, cv2.HOUGH_GRADIENT, dp=1.2, minDist=100, param1=50, param2=30, minRadius=20, maxRadius=200)\n"
   ],
   "metadata": {
    "collapsed": false,
    "ExecuteTime": {
     "end_time": "2024-03-12T10:06:07.343021Z",
     "start_time": "2024-03-12T10:06:07.315476Z"
    }
   },
   "id": "222a955d5209ac56",
   "execution_count": 49
  },
  {
   "cell_type": "code",
   "outputs": [
    {
     "name": "stdout",
     "output_type": "stream",
     "text": [
      "Средний цвет центральной части круга: (207.25751485989244, 233.87279932069063, 240.63719218794228)\n"
     ]
    },
    {
     "data": {
      "text/plain": "<Figure size 640x480 with 1 Axes>",
      "image/png": "[encoded data removed]"
     },
     "metadata": {},
     "output_type": "display_data"
    },
    {
     "name": "stdout",
     "output_type": "stream",
     "text": [
      "Оценочное значение pH: 5.7\n"
     ]
    }
   ],
   "source": [
    "if circles is not None:\n",
    "    circles = np.uint16(np.around(circles))\n",
    "    for circle in circles[0, :]:\n",
    "        x, y, r = circle[0], circle[1], circle[2]\n",
    "\n",
    "        mask = np.zeros(gray.shape, dtype=\"uint8\")\n",
    "        cv2.circle(mask, (x, y), r // 2, 255, -1)\n",
    "\n",
    "        mean_val = cv2.mean(image_corrected, mask=mask)[:3]\n",
    "        print(\"Средний цвет центральной части круга:\", mean_val)\n",
    "\n",
    "        masked_image = cv2.bitwise_and(image_corrected, image_corrected, mask=mask)\n",
    "        plt.imshow(cv2.cvtColor(masked_image, cv2.COLOR_BGR2RGB))\n",
    "        plt.title('Выделенная центральная область круга')\n",
    "        plt.show()\n",
    "else:\n",
    "    print(\"Круги не обнаружены.\")\n",
    "\n",
    "\n",
    "test_samples = {\n",
    "    (235, 223, 204): 8.0,\n",
    "    (232, 217, 192): 7.7,\n",
    "    (222, 221, 193): 7.5,\n",
    "    (222, 226, 221): 7.2,\n",
    "    (228, 234, 236): 6.9,\n",
    "    (236, 232, 215): 6.5,\n",
    "    (220, 235, 239): 6.3,\n",
    "    (207, 234, 240): 6.0,\n",
    "    (174, 234, 242): 5.7,\n",
    "}\n",
    "\n",
    "if mean_color is not None:\n",
    "    points = np.array(list(test_samples.keys()))\n",
    "    values = np.array(list(test_samples.values()))\n",
    "    estimated_ph = griddata(points, values, [mean_color], method='nearest')[0]\n",
    "    print(\"Оценочное значение pH:\", estimated_ph)\n",
    "else:\n",
    "    print(\"Невозможно оценить pH: нет среднего цвета.\")"
   ],
   "metadata": {
    "collapsed": true,
    "ExecuteTime": {
     "end_time": "2024-03-12T10:06:07.562520Z",
     "start_time": "2024-03-12T10:06:07.345025Z"
    }
   },
   "id": "initial_id",
   "execution_count": 50
  },
  {
   "cell_type": "code",
   "outputs": [
    {
     "name": "stdout",
     "output_type": "stream",
     "text": [
      "Круги не обнаружены.\n"
     ]
    }
   ],
   "source": [],
   "metadata": {
    "collapsed": false,
    "ExecuteTime": {
     "end_time": "2024-03-12T10:32:58.354564Z",
     "start_time": "2024-03-12T10:32:58.311498Z"
    }
   },
   "id": "7393425a434e3398",
   "execution_count": 51
  }
 ],
 "metadata": {
  "kernelspec": {
   "display_name": "Python 3",
   "language": "python",
   "name": "python3"
  },
  "language_info": {
   "codemirror_mode": {
    "name": "ipython",
    "version": 2
   },
   "file_extension": ".py",
   "mimetype": "text/x-python",
   "name": "python",
   "nbconvert_exporter": "python",
   "pygments_lexer": "ipython2",
   "version": "2.7.6"
  }
 },
 "nbformat": 4,
 "nbformat_minor": 5
}
