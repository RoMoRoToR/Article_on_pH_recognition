{
 "cells": [
  {
   "cell_type": "code",
   "execution_count": 140,
   "id": "8d2ae526c0831fb6",
   "metadata": {
    "id": "8d2ae526c0831fb6",
    "ExecuteTime": {
     "end_time": "2024-03-16T22:44:45.288458Z",
     "start_time": "2024-03-16T22:44:45.270933Z"
    }
   },
   "outputs": [],
   "source": [
    "import cv2\n",
    "import numpy as np\n",
    "from scipy.spatial import distance\n",
    "from matplotlib import pyplot as plt\n",
    "from scipy.interpolate import griddata"
   ]
  },
  {
   "cell_type": "code",
   "outputs": [],
   "source": [
    "def adjust_lightness_to_50(image):\n",
    "    \"\"\"Установка яркости L=50 для изображения.\"\"\"\n",
    "    lab_image = cv2.cvtColor(image, cv2.COLOR_BGR2Lab)\n",
    "    l, a, b = cv2.split(lab_image)\n",
    "    l.fill(50)  # Установка яркости L=50\n",
    "    corrected_lab_image = cv2.merge([l, a, b])\n",
    "    corrected_rgb_image = cv2.cvtColor(corrected_lab_image, cv2.COLOR_Lab2BGR)\n",
    "    return corrected_rgb_image"
   ],
   "metadata": {
    "id": "e0fa1e29f4b8d617",
    "ExecuteTime": {
     "end_time": "2024-03-16T22:44:45.303519Z",
     "start_time": "2024-03-16T22:44:45.290983Z"
    }
   },
   "id": "e0fa1e29f4b8d617",
   "execution_count": 141
  },
  {
   "cell_type": "code",
   "outputs": [],
   "source": [
    "def improve_contrast(image):\n",
    "    \"\"\"Улучшение контрастности изображения.\"\"\"\n",
    "    clahe = cv2.createCLAHE(clipLimit=2.0, tileGridSize=(8, 8))\n",
    "    lab = cv2.cvtColor(image, cv2.COLOR_BGR2Lab)\n",
    "    l, a, b = cv2.split(lab)\n",
    "    l2 = clahe.apply(l)\n",
    "    lab2 = cv2.merge([l2, a, b])\n",
    "    improved_img = cv2.cvtColor(lab2, cv2.COLOR_Lab2BGR)\n",
    "    return improved_img"
   ],
   "metadata": {
    "id": "154a5d2580895658",
    "ExecuteTime": {
     "end_time": "2024-03-16T22:44:45.319641Z",
     "start_time": "2024-03-16T22:44:45.304541Z"
    }
   },
   "id": "154a5d2580895658",
   "execution_count": 142
  },
  {
   "cell_type": "code",
   "outputs": [],
   "source": [
    "def find_nearest_samples_ab(sample_color_lab, test_samples_lab):\n",
    "    \"\"\"Поиск ближайших образцов по цвету в пространстве\"\"\"\n",
    "    a, b = sample_color_lab[1], sample_color_lab[2]  # Игнор L\n",
    "    closest_samples = sorted(test_samples_lab.keys(), key=lambda sample_ab: distance.euclidean((a, b), sample_ab))\n",
    "    return closest_samples[:2]\n"
   ],
   "metadata": {
    "id": "ddbe226e361c6e3e",
    "ExecuteTime": {
     "end_time": "2024-03-16T22:44:45.335648Z",
     "start_time": "2024-03-16T22:44:45.321555Z"
    }
   },
   "id": "ddbe226e361c6e3e",
   "execution_count": 143
  },
  {
   "cell_type": "code",
   "outputs": [
    {
     "name": "stdout",
     "output_type": "stream",
     "text": [
      "Изображение успешно загружено\n"
     ]
    }
   ],
   "source": [
    "image_path = '6.5.png'  # Используйте полный путь к файлу\n",
    "image = cv2.imread(image_path)\n",
    "image_corrected = adjust_lightness_to_50(image)\n",
    "if image is None:\n",
    "    print(f\"Не удалось загрузить изображение. Проверьте путь: {image_path}\")\n",
    "else:\n",
    "    print(\"Изображение успешно загружено\")\n"
   ],
   "metadata": {
    "id": "29b6959029f612ba",
    "ExecuteTime": {
     "end_time": "2024-03-16T22:50:24.814560Z",
     "start_time": "2024-03-16T22:50:24.795425Z"
    }
   },
   "id": "29b6959029f612ba",
   "execution_count": 176
  },
  {
   "cell_type": "code",
   "outputs": [],
   "source": [
    "gray = cv2.cvtColor(image_contrasted, cv2.COLOR_BGR2GRAY)\n",
    "blurred = cv2.GaussianBlur(gray, (9, 9), 0)\n",
    "# Обнаружение кругов\n",
    "circles = cv2.HoughCircles(blurred, cv2.HOUGH_GRADIENT, dp=1.2, minDist=100, param1=50, param2=50, minRadius=20, maxRadius=200)"
   ],
   "metadata": {
    "id": "a40851859d2ffaf2",
    "ExecuteTime": {
     "end_time": "2024-03-16T22:50:25.313134Z",
     "start_time": "2024-03-16T22:50:25.295141Z"
    }
   },
   "id": "a40851859d2ffaf2",
   "execution_count": 177
  },
  {
   "cell_type": "code",
   "outputs": [
    {
     "name": "stdout",
     "output_type": "stream",
     "text": [
      "Круги не обнаружены.\n"
     ]
    }
   ],
   "source": [
    "mean_color_lab = None\n",
    "if circles is not None:\n",
    "    circles = np.uint16(np.around(circles))\n",
    "    for circle in circles[0, :]:\n",
    "        x, y, r = circle\n",
    "        mask = np.zeros(gray.shape, dtype=\"uint8\")\n",
    "        cv2.circle(mask, (x, y), r // 2, 255, -1)\n",
    "        mean_val = cv2.mean(image_contrasted, mask=mask)\n",
    "        lab_image = cv2.cvtColor(np.uint8([[mean_val[:3]]]), cv2.COLOR_BGR2Lab)[0][0]\n",
    "        print(\"Средний LAB цвет центральной части круга:\", lab_image)\n",
    "        mean_color_lab = np.array(lab_image)\n",
    "else:\n",
    "    print(\"Круги не обнаружены.\")\n",
    "\n",
    "# Отображение изображения\n",
    "if circles is not None:\n",
    "    for circle in circles[0, :]:\n",
    "        x, y, r = circle\n",
    "        cv2.circle(image, (x, y), r, (0, 255, 0), 2)\n",
    "    plt.imshow(cv2.cvtColor(image, cv2.COLOR_BGR2RGB))\n",
    "    plt.show()"
   ],
   "metadata": {
    "colab": {
     "base_uri": "https://localhost:8080/",
     "height": 451
    },
    "id": "19d38c67d59e8c62",
    "outputId": "35c1ae77-9b00-4a7c-9dd0-700b4d185033",
    "ExecuteTime": {
     "end_time": "2024-03-16T22:50:25.670672Z",
     "start_time": "2024-03-16T22:50:25.649306Z"
    }
   },
   "id": "19d38c67d59e8c62",
   "execution_count": 178
  },
  {
   "cell_type": "code",
   "outputs": [],
   "source": [
    "# Словарь с данными\n",
    "test_samples_lab = {\n",
    "    (235, 223): 8.0,\n",
    "    (232, 217): 7.7,\n",
    "    (220, 119): 7.5,\n",
    "    (225, 126): 7.2,\n",
    "    (228, 234): 6.9,\n",
    "    (236, 127): 6.5,\n",
    "    (220, 235): 6.3,\n",
    "    (207, 234): 6.0,\n",
    "    (174, 234): 5.7,\n",
    "}"
   ],
   "metadata": {
    "collapsed": true,
    "id": "initial_id",
    "ExecuteTime": {
     "end_time": "2024-03-16T22:49:24.998075Z",
     "start_time": "2024-03-16T22:49:24.977036Z"
    }
   },
   "id": "initial_id",
   "execution_count": 169
  },
  {
   "cell_type": "code",
   "outputs": [
    {
     "name": "stdout",
     "output_type": "stream",
     "text": [
      "Оценочное значение pH: 7.5\n"
     ]
    }
   ],
   "source": [
    "if mean_color_lab is not None:\n",
    "    # Convert the keys to a list of [a, b] for interpolation\n",
    "    points = np.array([list(k) for k in test_samples_lab.keys()])\n",
    "    values = np.array(list(test_samples_lab.values()))\n",
    "    # Use only a and b components of mean_color_lab\n",
    "    mean_color_ab = np.array(mean_color_lab[1:3])\n",
    "    estimated_ph = griddata(points, values, [mean_color_ab], method='nearest')[0]\n",
    "    print(\"Оценочное значение pH:\", estimated_ph)\n",
    "else:\n",
    "    print(\"Невозможно оценить pH: нет среднего цвета.\")"
   ],
   "metadata": {
    "colab": {
     "base_uri": "https://localhost:8080/"
    },
    "id": "a7b9095f17e5b1f3",
    "outputId": "c43365aa-3bc2-4b53-97f3-01964ced0fab",
    "ExecuteTime": {
     "end_time": "2024-03-16T22:49:25.402250Z",
     "start_time": "2024-03-16T22:49:25.385194Z"
    }
   },
   "id": "a7b9095f17e5b1f3",
   "execution_count": 170
  },
  {
   "cell_type": "code",
   "outputs": [],
   "source": [],
   "metadata": {
    "collapsed": false,
    "ExecuteTime": {
     "start_time": "2024-03-16T22:44:45.372380Z"
    }
   },
   "id": "e7b11882f7bce4ae",
   "execution_count": null
  }
 ],
 "metadata": {
  "kernelspec": {
   "display_name": "Python 3",
   "language": "python",
   "name": "python3"
  },
  "language_info": {
   "codemirror_mode": {
    "name": "ipython",
    "version": 2
   },
   "file_extension": ".py",
   "mimetype": "text/x-python",
   "name": "python",
   "nbconvert_exporter": "python",
   "pygments_lexer": "ipython2",
   "version": "2.7.6"
  },
  "colab": {
   "provenance": []
  }
 },
 "nbformat": 4,
 "nbformat_minor": 5
}
