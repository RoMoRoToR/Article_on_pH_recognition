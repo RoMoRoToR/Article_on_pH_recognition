{
 "cells": [
  {
   "cell_type": "code",
   "execution_count": 75,
   "id": "initial_id",
   "metadata": {
    "collapsed": true,
    "ExecuteTime": {
     "end_time": "2024-02-17T14:12:38.461784Z",
     "start_time": "2024-02-17T14:12:38.451184Z"
    }
   },
   "outputs": [],
   "source": [
    "import numpy as np\n",
    "\n",
    "def prod_nonzero_diag_v1(X):\n",
    "    prod = 1\n",
    "    for i in range(min(X.shape)):\n",
    "        if X[i, i] != 0:\n",
    "            prod *= X[i, i]\n",
    "    return prod\n"
   ]
  },
  {
   "cell_type": "code",
   "outputs": [],
   "source": [
    "def prod_nonzero_diag_v2(X):\n",
    "    diag = np.diag(X)\n",
    "    nonzero_diag = diag[diag != 0]\n",
    "    return np.prod(nonzero_diag)\n"
   ],
   "metadata": {
    "collapsed": false,
    "ExecuteTime": {
     "end_time": "2024-02-17T14:12:38.493430Z",
     "start_time": "2024-02-17T14:12:38.482330Z"
    }
   },
   "id": "a9e7f0e578f83930",
   "execution_count": 76
  },
  {
   "cell_type": "code",
   "outputs": [],
   "source": [
    "def prod_nonzero_diag_v3(X):\n",
    "    return np.prod([X[i, i] for i in range(min(X.shape)) if X[i, i] != 0])\n"
   ],
   "metadata": {
    "collapsed": false,
    "ExecuteTime": {
     "end_time": "2024-02-17T14:12:38.539663Z",
     "start_time": "2024-02-17T14:12:38.529519Z"
    }
   },
   "id": "d298a2a595e8170",
   "execution_count": 77
  },
  {
   "cell_type": "code",
   "outputs": [
    {
     "name": "stdout",
     "output_type": "stream",
     "text": [
      "1.27 µs ± 7.5 ns per loop (mean ± std. dev. of 7 runs, 1,000,000 loops each)\n",
      "9.27 µs ± 692 ns per loop (mean ± std. dev. of 7 runs, 100,000 loops each)\n",
      "7.47 µs ± 175 ns per loop (mean ± std. dev. of 7 runs, 100,000 loops each)\n"
     ]
    }
   ],
   "source": [
    "matrix = np.array([[1, 0, 3], [4, 0, 6], [7, 8, 9]])\n",
    "\n",
    "%timeit prod_nonzero_diag_v1(matrix)\n",
    "%timeit prod_nonzero_diag_v2(matrix)\n",
    "%timeit prod_nonzero_diag_v3(matrix)\n"
   ],
   "metadata": {
    "collapsed": false,
    "ExecuteTime": {
     "end_time": "2024-02-17T14:13:02.628644Z",
     "start_time": "2024-02-17T14:12:38.541631Z"
    }
   },
   "id": "c4ae7bf4c0bc3ba7",
   "execution_count": 78
  },
  {
   "cell_type": "code",
   "outputs": [],
   "source": [
    "def check_multiset_v1(x, y):\n",
    "    return sorted(x) == sorted(y)\n"
   ],
   "metadata": {
    "collapsed": false,
    "ExecuteTime": {
     "end_time": "2024-02-17T14:13:02.644295Z",
     "start_time": "2024-02-17T14:13:02.631643Z"
    }
   },
   "id": "e0e097da219902ba",
   "execution_count": 79
  },
  {
   "cell_type": "code",
   "outputs": [],
   "source": [
    "def check_multiset_v2(x, y):\n",
    "    return np.array_equal(np.sort(x), np.sort(y))\n"
   ],
   "metadata": {
    "collapsed": false,
    "ExecuteTime": {
     "end_time": "2024-02-17T14:13:02.659544Z",
     "start_time": "2024-02-17T14:13:02.646240Z"
    }
   },
   "id": "b8c5145cfedbdfcc",
   "execution_count": 80
  },
  {
   "cell_type": "code",
   "outputs": [],
   "source": [
    "def check_multiset_v3(x, y):\n",
    "    ux, cx = np.unique(x, return_counts=True)\n",
    "    uy, cy = np.unique(y, return_counts=True)\n",
    "    return np.array_equal(ux, uy) and np.array_equal(cx, cy)\n"
   ],
   "metadata": {
    "collapsed": false,
    "ExecuteTime": {
     "end_time": "2024-02-17T14:13:02.674723Z",
     "start_time": "2024-02-17T14:13:02.661694Z"
    }
   },
   "id": "ea8f56e24ba83ecc",
   "execution_count": 81
  },
  {
   "cell_type": "code",
   "outputs": [
    {
     "name": "stdout",
     "output_type": "stream",
     "text": [
      "1.79 µs ± 44.1 ns per loop (mean ± std. dev. of 7 runs, 100,000 loops each)\n",
      "7.02 µs ± 302 ns per loop (mean ± std. dev. of 7 runs, 100,000 loops each)\n",
      "46.3 µs ± 3.99 µs per loop (mean ± std. dev. of 7 runs, 10,000 loops each)\n"
     ]
    }
   ],
   "source": [
    "x = np.array([1, 2, 2, 3])\n",
    "y = np.array([2, 3, 1, 2])\n",
    "\n",
    "%timeit check_multiset_v1(x, y)\n",
    "%timeit check_multiset_v2(x, y)\n",
    "%timeit check_multiset_v3(x, y)\n"
   ],
   "metadata": {
    "collapsed": false,
    "ExecuteTime": {
     "end_time": "2024-02-17T14:13:13.637065Z",
     "start_time": "2024-02-17T14:13:02.678732Z"
    }
   },
   "id": "2429504282e61025",
   "execution_count": 82
  },
  {
   "cell_type": "code",
   "outputs": [],
   "source": [
    "def max_after_zero_v1(x):\n",
    "    max_elem = float('-inf')\n",
    "    for i in range(1, len(x)):\n",
    "        if x[i-1] == 0 and x[i] > max_elem:\n",
    "            max_elem = x[i]\n",
    "    return max_elem\n",
    "    "
   ],
   "metadata": {
    "collapsed": false,
    "ExecuteTime": {
     "end_time": "2024-02-17T14:13:13.651853Z",
     "start_time": "2024-02-17T14:13:13.638665Z"
    }
   },
   "id": "7ee5859474dd5a3c",
   "execution_count": 83
  },
  {
   "cell_type": "code",
   "outputs": [],
   "source": [
    "def max_after_zero_v2(x):\n",
    "    zero_indices = np.where(x[:-1] == 0)[0] + 1\n",
    "    if len(zero_indices) == 0:\n",
    "        return None\n",
    "    return np.max(x[zero_indices])\n"
   ],
   "metadata": {
    "collapsed": false,
    "ExecuteTime": {
     "end_time": "2024-02-17T14:13:13.667521Z",
     "start_time": "2024-02-17T14:13:13.654390Z"
    }
   },
   "id": "b112a2e0aa887269",
   "execution_count": 84
  },
  {
   "cell_type": "code",
   "outputs": [],
   "source": [
    "def max_after_zero_v3(x):\n",
    "    return max([x[i] for i in range(1, len(x)) if x[i-1] == 0], default=None)\n"
   ],
   "metadata": {
    "collapsed": false,
    "ExecuteTime": {
     "end_time": "2024-02-17T14:13:13.683303Z",
     "start_time": "2024-02-17T14:13:13.669799Z"
    }
   },
   "id": "e6e1d95c74331316",
   "execution_count": 85
  },
  {
   "cell_type": "code",
   "outputs": [
    {
     "name": "stdout",
     "output_type": "stream",
     "text": [
      "3.85 µs ± 77.3 ns per loop (mean ± std. dev. of 7 runs, 100,000 loops each)\n",
      "8.54 µs ± 596 ns per loop (mean ± std. dev. of 7 runs, 100,000 loops each)\n",
      "2.89 µs ± 283 ns per loop (mean ± std. dev. of 7 runs, 100,000 loops each)\n"
     ]
    }
   ],
   "source": [
    "x = np.array([0, 1, 2, 0, 4, 5, 0, 7, 8, 0, 10])\n",
    "\n",
    "%timeit max_after_zero_v1(x)\n",
    "%timeit max_after_zero_v2(x)\n",
    "%timeit max_after_zero_v3(x)\n"
   ],
   "metadata": {
    "collapsed": false,
    "ExecuteTime": {
     "end_time": "2024-02-17T14:13:26.094346Z",
     "start_time": "2024-02-17T14:13:13.685871Z"
    }
   },
   "id": "5c5a091b659f936e",
   "execution_count": 86
  },
  {
   "cell_type": "code",
   "outputs": [],
   "source": [
    "def rgb_to_grayscale_v1(image):\n",
    "    weights = np.array([0.299, 0.587, 0.114])\n",
    "    height, width, _ = image.shape\n",
    "    grayscale = np.empty((height, width))\n",
    "    for i in range(height):\n",
    "        for j in range(width):\n",
    "            grayscale[i, j] = np.dot(image[i, j, :], weights)\n",
    "    return grayscale\n"
   ],
   "metadata": {
    "collapsed": false,
    "ExecuteTime": {
     "end_time": "2024-02-17T14:13:26.109590Z",
     "start_time": "2024-02-17T14:13:26.096305Z"
    }
   },
   "id": "3ebf1ec85d224343",
   "execution_count": 87
  },
  {
   "cell_type": "code",
   "outputs": [],
   "source": [
    "def rgb_to_grayscale_v2(image):\n",
    "    weights = np.array([0.299, 0.587, 0.114])\n",
    "    return np.dot(image[...,:3], weights)\n"
   ],
   "metadata": {
    "collapsed": false,
    "ExecuteTime": {
     "end_time": "2024-02-17T14:13:26.124656Z",
     "start_time": "2024-02-17T14:13:26.111230Z"
    }
   },
   "id": "269a645f836558a0",
   "execution_count": 88
  },
  {
   "cell_type": "code",
   "outputs": [],
   "source": [
    "def rgb_to_grayscale_v3(image):\n",
    "    weights = np.array([0.299, 0.587, 0.114])\n",
    "    return np.sum(image * weights, axis=2)\n"
   ],
   "metadata": {
    "collapsed": false,
    "ExecuteTime": {
     "end_time": "2024-02-17T14:13:26.140195Z",
     "start_time": "2024-02-17T14:13:26.127387Z"
    }
   },
   "id": "1e15d07e2eb5227",
   "execution_count": 89
  },
  {
   "cell_type": "code",
   "outputs": [],
   "source": [
    "import numpy as np\n",
    "import imageio.v2 as imageio\n",
    "\n",
    "image_path = 'img.png'\n",
    "image = imageio.imread(image_path)\n",
    "\n",
    "if image.dtype != np.uint8:\n",
    "    image = (image / np.max(image) * 255).astype(np.uint8)\n"
   ],
   "metadata": {
    "collapsed": false,
    "ExecuteTime": {
     "end_time": "2024-02-17T16:49:32.663050Z",
     "start_time": "2024-02-17T16:49:32.625095Z"
    }
   },
   "id": "2feed9d506804a8",
   "execution_count": 98
  },
  {
   "cell_type": "code",
   "outputs": [
    {
     "name": "stdout",
     "output_type": "stream",
     "text": [
      "2.69 s ± 29.7 ms per loop (mean ± std. dev. of 7 runs, 1 loop each)\n",
      "53.6 ms ± 5.43 ms per loop (mean ± std. dev. of 7 runs, 10 loops each)\n",
      "43.5 ms ± 4.67 ms per loop (mean ± std. dev. of 7 runs, 10 loops each)\n"
     ]
    }
   ],
   "source": [
    "import numpy as np\n",
    "\n",
    "# image = np.random.randint(0, 256, (100, 100, 3), dtype=np.uint8)\n",
    "\n",
    "%timeit rgb_to_grayscale_v1(image)\n",
    "%timeit rgb_to_grayscale_v2(image)\n",
    "%timeit rgb_to_grayscale_v3(image)\n"
   ],
   "metadata": {
    "collapsed": false,
    "ExecuteTime": {
     "end_time": "2024-02-17T16:50:15.535336Z",
     "start_time": "2024-02-17T16:49:45.787111Z"
    }
   },
   "id": "7390038a0ac6533d",
   "execution_count": 99
  },
  {
   "cell_type": "code",
   "outputs": [],
   "source": [
    "def rle_v1(x):\n",
    "    values = []\n",
    "    lengths = []\n",
    "    count = 1\n",
    "    for i in range(1, len(x)):\n",
    "        if x[i] == x[i - 1]:\n",
    "            count += 1\n",
    "        else:\n",
    "            values.append(x[i - 1])\n",
    "            lengths.append(count)\n",
    "            count = 1\n",
    "    values.append(x[-1])\n",
    "    lengths.append(count)\n",
    "    return np.array(values), np.array(lengths)\n"
   ],
   "metadata": {
    "collapsed": false,
    "ExecuteTime": {
     "end_time": "2024-02-17T14:13:45.980246Z",
     "start_time": "2024-02-17T14:13:45.973072Z"
    }
   },
   "id": "50af69ee7dcbc3d9",
   "execution_count": 91
  },
  {
   "cell_type": "code",
   "outputs": [],
   "source": [
    "def rle_v2(x):\n",
    "    n = len(x)\n",
    "    ends = np.nonzero(x[:-1] != x[1:])[0] + 1\n",
    "    ends = np.r_[0, ends, n]\n",
    "    values = x[ends[:-1]]\n",
    "    lengths = np.diff(ends)\n",
    "    return values, lengths\n"
   ],
   "metadata": {
    "collapsed": false,
    "ExecuteTime": {
     "end_time": "2024-02-17T14:13:45.995819Z",
     "start_time": "2024-02-17T14:13:45.982242Z"
    }
   },
   "id": "62c2f4264ae62b99",
   "execution_count": 92
  },
  {
   "cell_type": "code",
   "outputs": [],
   "source": [
    "def rle_v3(x):\n",
    "    values, lengths = [], []\n",
    "    start = 0\n",
    "    for end in range(1, len(x)):\n",
    "        if x[end] != x[start]:\n",
    "            values.append(x[start])\n",
    "            lengths.append(end - start)\n",
    "            start = end\n",
    "    values.append(x[start])\n",
    "    lengths.append(len(x) - start)\n",
    "    return np.array(values), np.array(lengths)\n"
   ],
   "metadata": {
    "collapsed": false,
    "ExecuteTime": {
     "end_time": "2024-02-17T14:13:46.010721Z",
     "start_time": "2024-02-17T14:13:45.997865Z"
    }
   },
   "id": "48bf3c515fc4fed7",
   "execution_count": 93
  },
  {
   "cell_type": "code",
   "outputs": [
    {
     "name": "stdout",
     "output_type": "stream",
     "text": [
      "3.71 µs ± 82.4 ns per loop (mean ± std. dev. of 7 runs, 100,000 loops each)\n",
      "26 µs ± 227 ns per loop (mean ± std. dev. of 7 runs, 10,000 loops each)\n",
      "3.45 µs ± 18.3 ns per loop (mean ± std. dev. of 7 runs, 100,000 loops each)\n"
     ]
    }
   ],
   "source": [
    "x = np.array([1, 2, 2, 3, 3, 1, 1, 1])\n",
    "\n",
    "%timeit rle_v1(x)\n",
    "%timeit rle_v2(x)\n",
    "%timeit rle_v3(x)\n"
   ],
   "metadata": {
    "collapsed": false,
    "ExecuteTime": {
     "end_time": "2024-02-17T14:13:54.062457Z",
     "start_time": "2024-02-17T14:13:46.012725Z"
    }
   },
   "id": "ddf0e2e82405c516",
   "execution_count": 94
  }
 ],
 "metadata": {
  "kernelspec": {
   "display_name": "Python 3",
   "language": "python",
   "name": "python3"
  },
  "language_info": {
   "codemirror_mode": {
    "name": "ipython",
    "version": 2
   },
   "file_extension": ".py",
   "mimetype": "text/x-python",
   "name": "python",
   "nbconvert_exporter": "python",
   "pygments_lexer": "ipython2",
   "version": "2.7.6"
  }
 },
 "nbformat": 4,
 "nbformat_minor": 5
}
