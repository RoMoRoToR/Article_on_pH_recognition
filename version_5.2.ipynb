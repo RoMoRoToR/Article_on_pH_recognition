{
 "cells": [
  {
   "cell_type": "code",
   "execution_count": 1,
   "id": "464ec501236732dd",
   "metadata": {
    "collapsed": false,
    "ExecuteTime": {
     "end_time": "2024-04-07T14:55:22.009885Z",
     "start_time": "2024-04-07T14:55:21.806389Z"
    }
   },
   "outputs": [],
   "source": [
    "import cv2\n",
    "import numpy as np"
   ]
  },
  {
   "cell_type": "code",
   "outputs": [],
   "source": [
    "def correct_white_balance(img):\n",
    "    # Преобразование в формат float для вычислений\n",
    "    img_float = np.float32(img)\n",
    "\n",
    "    # Вычисление средних значений по каждому каналу\n",
    "    avgB = np.average(img_float[:, :, 0])\n",
    "    avgG = np.average(img_float[:, :, 1])\n",
    "    avgR = np.average(img_float[:, :, 2])\n",
    "\n",
    "    # Масштабирование значений пикселей в каждом канале\n",
    "    img_float[:, :, 0] = img_float[:, :, 0] * (avgR / avgB)\n",
    "    img_float[:, :, 1] = img_float[:, :, 1] * (avgR / avgG)\n",
    "    img_float[:, :, 2] = img_float[:, :, 2] * (avgR / avgR)\n",
    "\n",
    "    # Преобразование обратно в формат uint8\n",
    "    balanced_img = cv2.convertScaleAbs(img_float)\n",
    "    return balanced_img"
   ],
   "metadata": {
    "collapsed": false,
    "ExecuteTime": {
     "end_time": "2024-04-07T14:55:22.025917Z",
     "start_time": "2024-04-07T14:55:22.012393Z"
    }
   },
   "id": "bcefebd17b0f6a70",
   "execution_count": 2
  },
  {
   "cell_type": "code",
   "outputs": [],
   "source": [
    "def to_LAB_and_normalize_L(img):\n",
    "    # Преобразование в LAB\n",
    "    lab_img = cv2.cvtColor(img, cv2.COLOR_BGR2Lab)\n",
    "    l, a, b = cv2.split(lab_img)\n",
    "\n",
    "    # Нормализация L-канала\n",
    "    l[:] = 50\n",
    "\n",
    "    # Объединение каналов и преобразование обратно в BGR\n",
    "    normalized_lab_img = cv2.merge([l, a, b])\n",
    "    normalized_img = cv2.cvtColor(normalized_lab_img, cv2.COLOR_Lab2BGR)\n",
    "    return normalized_img"
   ],
   "metadata": {
    "collapsed": false,
    "ExecuteTime": {
     "end_time": "2024-04-07T14:55:22.041529Z",
     "start_time": "2024-04-07T14:55:22.028915Z"
    }
   },
   "id": "f651873dfa262755",
   "execution_count": 3
  },
  {
   "cell_type": "code",
   "outputs": [],
   "source": [
    "# Загрузка изображения\n",
    "img = cv2.imread('image/8.0.png')"
   ],
   "metadata": {
    "collapsed": false,
    "ExecuteTime": {
     "end_time": "2024-04-07T14:55:22.056968Z",
     "start_time": "2024-04-07T14:55:22.043457Z"
    }
   },
   "id": "b1f2595f90f17080",
   "execution_count": 4
  },
  {
   "cell_type": "code",
   "outputs": [],
   "source": [
    "# Коррекция баланса белого\n",
    "wb_corrected_img = correct_white_balance(img)"
   ],
   "metadata": {
    "collapsed": false,
    "ExecuteTime": {
     "end_time": "2024-04-07T14:55:22.072005Z",
     "start_time": "2024-04-07T14:55:22.059970Z"
    }
   },
   "id": "35b58769f657873d",
   "execution_count": 5
  },
  {
   "cell_type": "code",
   "outputs": [],
   "source": [
    "# Нормализация освещения через LAB\n",
    "normalized_img = to_LAB_and_normalize_L(wb_corrected_img)"
   ],
   "metadata": {
    "collapsed": false,
    "ExecuteTime": {
     "end_time": "2024-04-07T14:55:22.242010Z",
     "start_time": "2024-04-07T14:55:22.076011Z"
    }
   },
   "id": "63bfcbe87382eaf6",
   "execution_count": 6
  },
  {
   "cell_type": "code",
   "outputs": [],
   "source": [
    "# Улучшение контрастности\n",
    "clahe = cv2.createCLAHE(clipLimit=2.0, tileGridSize=(8, 8))\n",
    "gray = cv2.cvtColor(normalized_img, cv2.COLOR_BGR2GRAY)\n",
    "clahe_img = clahe.apply(gray)\n",
    "contrast_img = cv2.merge([clahe_img, clahe_img, clahe_img])"
   ],
   "metadata": {
    "collapsed": false,
    "ExecuteTime": {
     "end_time": "2024-04-07T14:55:22.257246Z",
     "start_time": "2024-04-07T14:55:22.244012Z"
    }
   },
   "id": "2158225bd2cf7748",
   "execution_count": 7
  },
  {
   "cell_type": "code",
   "outputs": [],
   "source": [
    "# Применение последовательности преобразований и отображение результатов\n",
    "cv2.imshow('Normalized and Contrast Enhanced', contrast_img)\n",
    "cv2.waitKey(0)\n",
    "cv2.destroyAllWindows()"
   ],
   "metadata": {
    "collapsed": true,
    "ExecuteTime": {
     "end_time": "2024-04-07T14:55:25.215380Z",
     "start_time": "2024-04-07T14:55:22.260242Z"
    }
   },
   "id": "initial_id",
   "execution_count": 8
  },
  {
   "cell_type": "code",
   "outputs": [],
   "source": [],
   "metadata": {
    "collapsed": false,
    "ExecuteTime": {
     "end_time": "2024-04-07T14:55:25.231475Z",
     "start_time": "2024-04-07T14:55:25.217376Z"
    }
   },
   "id": "203f8ee77ba6e377",
   "execution_count": 8
  }
 ],
 "metadata": {
  "kernelspec": {
   "display_name": "Python 3",
   "language": "python",
   "name": "python3"
  },
  "language_info": {
   "codemirror_mode": {
    "name": "ipython",
    "version": 2
   },
   "file_extension": ".py",
   "mimetype": "text/x-python",
   "name": "python",
   "nbconvert_exporter": "python",
   "pygments_lexer": "ipython2",
   "version": "2.7.6"
  }
 },
 "nbformat": 4,
 "nbformat_minor": 5
}
