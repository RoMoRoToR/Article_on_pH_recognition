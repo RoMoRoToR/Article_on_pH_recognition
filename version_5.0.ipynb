{
 "cells": [
  {
   "cell_type": "code",
   "execution_count": 77,
   "id": "8d2ae526c0831fb6",
   "metadata": {
    "collapsed": false,
    "ExecuteTime": {
     "end_time": "2024-03-12T10:37:49.449947Z",
     "start_time": "2024-03-12T10:37:49.437786Z"
    }
   },
   "outputs": [],
   "source": [
    "import cv2\n",
    "import numpy as np\n",
    "from scipy.spatial import distance\n",
    "from matplotlib import pyplot as plt\n",
    "from scipy.interpolate import griddata"
   ]
  },
  {
   "cell_type": "code",
   "outputs": [],
   "source": [
    "def adjust_lightness_to_50(image):\n",
    "    \"\"\"Установка яркости L=50 для изображения.\"\"\"\n",
    "    lab_image = cv2.cvtColor(image, cv2.COLOR_BGR2Lab)\n",
    "    l, a, b = cv2.split(lab_image)\n",
    "    l.fill(50)  # Установка яркости L=50\n",
    "    corrected_lab_image = cv2.merge([l, a, b])\n",
    "    corrected_rgb_image = cv2.cvtColor(corrected_lab_image, cv2.COLOR_Lab2BGR)\n",
    "    return corrected_rgb_image"
   ],
   "metadata": {
    "collapsed": false,
    "ExecuteTime": {
     "end_time": "2024-03-12T10:37:49.466143Z",
     "start_time": "2024-03-12T10:37:49.452421Z"
    }
   },
   "id": "e0fa1e29f4b8d617",
   "execution_count": 78
  },
  {
   "cell_type": "code",
   "outputs": [],
   "source": [
    "def improve_contrast(image):\n",
    "    \"\"\"Улучшение контрастности изображения.\"\"\"\n",
    "    clahe = cv2.createCLAHE(clipLimit=2.0, tileGridSize=(8, 8))\n",
    "    lab = cv2.cvtColor(image, cv2.COLOR_BGR2Lab)\n",
    "    l, a, b = cv2.split(lab)\n",
    "    l2 = clahe.apply(l)\n",
    "    lab2 = cv2.merge([l2, a, b])\n",
    "    improved_img = cv2.cvtColor(lab2, cv2.COLOR_Lab2BGR)\n",
    "    return improved_img"
   ],
   "metadata": {
    "collapsed": false,
    "ExecuteTime": {
     "end_time": "2024-03-12T10:37:49.481310Z",
     "start_time": "2024-03-12T10:37:49.468654Z"
    }
   },
   "id": "154a5d2580895658",
   "execution_count": 79
  },
  {
   "cell_type": "code",
   "outputs": [],
   "source": [
    "def find_nearest_samples_ab(sample_color_lab, test_samples_lab):\n",
    "    \"\"\"Поиск ближайших образцов по цвету в пространстве\"\"\"\n",
    "    a, b = sample_color_lab[1], sample_color_lab[2]  # Игнор L\n",
    "    closest_samples = sorted(test_samples_lab.keys(), key=lambda sample_ab: distance.euclidean((a, b), sample_ab))\n",
    "    return closest_samples[:2]"
   ],
   "metadata": {
    "collapsed": false,
    "ExecuteTime": {
     "end_time": "2024-03-12T10:37:49.496831Z",
     "start_time": "2024-03-12T10:37:49.484315Z"
    }
   },
   "id": "ddbe226e361c6e3e",
   "execution_count": 80
  },
  {
   "cell_type": "code",
   "outputs": [],
   "source": [
    "# Загрузка и коррекция изображения\n",
    "image_path = 'image/6.5.png'\n",
    "image = cv2.imread(image_path)\n",
    "image_corrected = adjust_lightness_to_50(image)\n",
    "image_contrasted = improve_contrast(image_corrected)"
   ],
   "metadata": {
    "collapsed": false,
    "ExecuteTime": {
     "end_time": "2024-03-12T10:37:49.527377Z",
     "start_time": "2024-03-12T10:37:49.498830Z"
    }
   },
   "id": "29b6959029f612ba",
   "execution_count": 81
  },
  {
   "cell_type": "code",
   "outputs": [],
   "source": [
    "gray = cv2.cvtColor(image_corrected, cv2.COLOR_BGR2GRAY)\n",
    "blurred = cv2.GaussianBlur(gray, (9, 9), 0)\n",
    "circles = cv2.HoughCircles(blurred, cv2.HOUGH_GRADIENT, dp=1.2, minDist=100, param1=50, param2=30, minRadius=20, maxRadius=200)"
   ],
   "metadata": {
    "collapsed": false,
    "ExecuteTime": {
     "end_time": "2024-03-12T10:37:49.542906Z",
     "start_time": "2024-03-12T10:37:49.529883Z"
    }
   },
   "id": "a40851859d2ffaf2",
   "execution_count": 82
  },
  {
   "cell_type": "code",
   "outputs": [
    {
     "name": "stdout",
     "output_type": "stream",
     "text": [
      "Круги не обнаружены.\n"
     ]
    }
   ],
   "source": [
    "mean_color_lab = None\n",
    "if circles is not None:\n",
    "    circles = np.uint16(np.around(circles))\n",
    "    for circle in circles[0, :]:\n",
    "        x, y, r = circle\n",
    "        mask = np.zeros(gray.shape, dtype=\"uint8\")\n",
    "        cv2.circle(mask, (x, y), r // 2, 255, -1)\n",
    "        mean_val = cv2.mean(image_corrected, mask=mask)\n",
    "        lab_image = cv2.cvtColor(np.uint8([[mean_val[:3]]]), cv2.COLOR_BGR2Lab)[0][0]\n",
    "        print(\"Средний LAB цвет центральной части круга:\", lab_image)\n",
    "        mean_color_lab = lab_image\n",
    "else:\n",
    "    print(\"Круги не обнаружены.\")"
   ],
   "metadata": {
    "collapsed": false,
    "ExecuteTime": {
     "end_time": "2024-03-12T10:37:49.558421Z",
     "start_time": "2024-03-12T10:37:49.543909Z"
    }
   },
   "id": "19d38c67d59e8c62",
   "execution_count": 83
  },
  {
   "cell_type": "code",
   "outputs": [],
   "source": [
    "# Словарь с данными\n",
    "test_samples_lab = {\n",
    "    (235, 223): 8.0,\n",
    "    (232, 217): 7.7,\n",
    "    (222, 221): 7.5,\n",
    "    (222, 226): 7.2,\n",
    "    (228, 234): 6.9,\n",
    "    (236, 232): 6.5,\n",
    "    (220, 235): 6.3,\n",
    "    (207, 234): 6.0,\n",
    "    (174, 234): 5.7,\n",
    "}\n"
   ],
   "metadata": {
    "collapsed": true,
    "ExecuteTime": {
     "end_time": "2024-03-12T10:37:49.574444Z",
     "start_time": "2024-03-12T10:37:49.560932Z"
    }
   },
   "id": "initial_id",
   "execution_count": 84
  },
  {
   "cell_type": "code",
   "outputs": [
    {
     "name": "stdout",
     "output_type": "stream",
     "text": [
      "Невозможно оценить pH: нет среднего цвета.\n"
     ]
    }
   ],
   "source": [
    "if mean_color_lab is not None:\n",
    "    points = np.array(list(test_samples_lab.keys()))\n",
    "    values = np.array(list(test_samples_lab.values()))\n",
    "    estimated_ph = griddata(points, values, [mean_color_lab], method='nearest')[0]\n",
    "    print(\"Оценочное значение pH:\", estimated_ph)\n",
    "else:\n",
    "    print(\"Невозможно оценить pH: нет среднего цвета.\")"
   ],
   "metadata": {
    "collapsed": false,
    "ExecuteTime": {
     "end_time": "2024-03-12T10:37:49.589959Z",
     "start_time": "2024-03-12T10:37:49.576444Z"
    }
   },
   "id": "a7b9095f17e5b1f3",
   "execution_count": 85
  }
 ],
 "metadata": {
  "kernelspec": {
   "display_name": "Python 3",
   "language": "python",
   "name": "python3"
  },
  "language_info": {
   "codemirror_mode": {
    "name": "ipython",
    "version": 2
   },
   "file_extension": ".py",
   "mimetype": "text/x-python",
   "name": "python",
   "nbconvert_exporter": "python",
   "pygments_lexer": "ipython2",
   "version": "2.7.6"
  }
 },
 "nbformat": 4,
 "nbformat_minor": 5
}
