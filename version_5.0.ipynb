{
 "cells": [
  {
   "cell_type": "code",
   "execution_count": 1,
   "id": "8d2ae526c0831fb6",
   "metadata": {
    "collapsed": false,
    "ExecuteTime": {
     "end_time": "2024-03-30T09:16:05.427897Z",
     "start_time": "2024-03-30T09:16:04.259850Z"
    }
   },
   "outputs": [],
   "source": [
    "import cv2\n",
    "import numpy as np\n",
    "from scipy.spatial import distance\n",
    "from matplotlib import pyplot as plt\n",
    "from scipy.interpolate import griddata"
   ]
  },
  {
   "cell_type": "code",
   "outputs": [],
   "source": [
    "def adjust_lightness_to_50(image):\n",
    "    \"\"\"Установка яркости L=50 для изображения.\"\"\"\n",
    "    lab_image = cv2.cvtColor(image, cv2.COLOR_BGR2Lab)\n",
    "    l, a, b = cv2.split(lab_image)\n",
    "    l.fill(50)  # Установка яркости L=50\n",
    "    corrected_lab_image = cv2.merge([l, a, b])\n",
    "    corrected_rgb_image = cv2.cvtColor(corrected_lab_image, cv2.COLOR_Lab2BGR)\n",
    "    return corrected_rgb_image"
   ],
   "metadata": {
    "collapsed": false,
    "ExecuteTime": {
     "end_time": "2024-03-30T09:16:05.444070Z",
     "start_time": "2024-03-30T09:16:05.431061Z"
    }
   },
   "id": "e0fa1e29f4b8d617",
   "execution_count": 2
  },
  {
   "cell_type": "code",
   "outputs": [],
   "source": [
    "def improve_contrast(image):\n",
    "    \"\"\"Улучшение контрастности изображения.\"\"\"\n",
    "    clahe = cv2.createCLAHE(clipLimit=2.0, tileGridSize=(8, 8))\n",
    "    lab = cv2.cvtColor(image, cv2.COLOR_BGR2Lab)\n",
    "    l, a, b = cv2.split(lab)\n",
    "    l2 = clahe.apply(l)\n",
    "    lab2 = cv2.merge([l2, a, b])\n",
    "    improved_img = cv2.cvtColor(lab2, cv2.COLOR_Lab2BGR)\n",
    "    return improved_img"
   ],
   "metadata": {
    "collapsed": false,
    "ExecuteTime": {
     "end_time": "2024-03-30T09:16:05.459283Z",
     "start_time": "2024-03-30T09:16:05.445143Z"
    }
   },
   "id": "154a5d2580895658",
   "execution_count": 3
  },
  {
   "cell_type": "code",
   "outputs": [],
   "source": [
    "def find_nearest_samples_ab(sample_color_lab, test_samples_lab):\n",
    "    \"\"\"Поиск ближайших образцов по цвету в пространстве\"\"\"\n",
    "    a, b = sample_color_lab[1], sample_color_lab[2]  # Игнор L\n",
    "    closest_samples = sorted(test_samples_lab.keys(), key=lambda sample_ab: distance.euclidean((a, b), sample_ab))\n",
    "    return closest_samples[:2]"
   ],
   "metadata": {
    "collapsed": false,
    "ExecuteTime": {
     "end_time": "2024-03-30T09:16:05.475376Z",
     "start_time": "2024-03-30T09:16:05.461360Z"
    }
   },
   "id": "ddbe226e361c6e3e",
   "execution_count": 4
  },
  {
   "cell_type": "code",
   "outputs": [
    {
     "ename": "error",
     "evalue": "OpenCV(4.9.0) D:\\a\\opencv-python\\opencv-python\\opencv\\modules\\imgproc\\src\\color.cpp:196: error: (-215:Assertion failed) !_src.empty() in function 'cv::cvtColor'\n",
     "output_type": "error",
     "traceback": [
      "\u001B[1;31m---------------------------------------------------------------------------\u001B[0m",
      "\u001B[1;31merror\u001B[0m                                     Traceback (most recent call last)",
      "Cell \u001B[1;32mIn[9], line 4\u001B[0m\n\u001B[0;32m      2\u001B[0m image_path \u001B[38;5;241m=\u001B[39m \u001B[38;5;124m'\u001B[39m\u001B[38;5;124m6.5.png\u001B[39m\u001B[38;5;124m'\u001B[39m\n\u001B[0;32m      3\u001B[0m image \u001B[38;5;241m=\u001B[39m cv2\u001B[38;5;241m.\u001B[39mimread(image_path)\n\u001B[1;32m----> 4\u001B[0m image_corrected \u001B[38;5;241m=\u001B[39m \u001B[43madjust_lightness_to_50\u001B[49m\u001B[43m(\u001B[49m\u001B[43mimage\u001B[49m\u001B[43m)\u001B[49m\n\u001B[0;32m      5\u001B[0m image_contrasted \u001B[38;5;241m=\u001B[39m improve_contrast(image_corrected)\n",
      "Cell \u001B[1;32mIn[2], line 3\u001B[0m, in \u001B[0;36madjust_lightness_to_50\u001B[1;34m(image)\u001B[0m\n\u001B[0;32m      1\u001B[0m \u001B[38;5;28;01mdef\u001B[39;00m \u001B[38;5;21madjust_lightness_to_50\u001B[39m(image):\n\u001B[0;32m      2\u001B[0m \u001B[38;5;250m    \u001B[39m\u001B[38;5;124;03m\"\"\"Установка яркости L=50 для изображения.\"\"\"\u001B[39;00m\n\u001B[1;32m----> 3\u001B[0m     lab_image \u001B[38;5;241m=\u001B[39m \u001B[43mcv2\u001B[49m\u001B[38;5;241;43m.\u001B[39;49m\u001B[43mcvtColor\u001B[49m\u001B[43m(\u001B[49m\u001B[43mimage\u001B[49m\u001B[43m,\u001B[49m\u001B[43m \u001B[49m\u001B[43mcv2\u001B[49m\u001B[38;5;241;43m.\u001B[39;49m\u001B[43mCOLOR_BGR2Lab\u001B[49m\u001B[43m)\u001B[49m\n\u001B[0;32m      4\u001B[0m     l, a, b \u001B[38;5;241m=\u001B[39m cv2\u001B[38;5;241m.\u001B[39msplit(lab_image)\n\u001B[0;32m      5\u001B[0m     l\u001B[38;5;241m.\u001B[39mfill(\u001B[38;5;241m50\u001B[39m)  \u001B[38;5;66;03m# Установка яркости L=50\u001B[39;00m\n",
      "\u001B[1;31merror\u001B[0m: OpenCV(4.9.0) D:\\a\\opencv-python\\opencv-python\\opencv\\modules\\imgproc\\src\\color.cpp:196: error: (-215:Assertion failed) !_src.empty() in function 'cv::cvtColor'\n"
     ]
    }
   ],
   "source": [
    "# Загрузка и коррекция изображения\n",
    "image_path = ''\n",
    "image = cv2.imread(image_path)\n",
    "image_corrected = adjust_lightness_to_50(image)\n",
    "image_contrasted = improve_contrast(image_corrected)"
   ],
   "metadata": {
    "collapsed": false,
    "ExecuteTime": {
     "end_time": "2024-03-30T09:16:17.395201Z",
     "start_time": "2024-03-30T09:16:16.392564Z"
    }
   },
   "id": "29b6959029f612ba",
   "execution_count": 9
  },
  {
   "cell_type": "code",
   "outputs": [],
   "source": [
    "gray = cv2.cvtColor(image_corrected, cv2.COLOR_BGR2GRAY)\n",
    "blurred = cv2.GaussianBlur(gray, (9, 9), 0)\n",
    "circles = cv2.HoughCircles(blurred, cv2.HOUGH_GRADIENT, dp=1.2, minDist=100, param1=60, param2=70, minRadius=20, maxRadius=200)"
   ],
   "metadata": {
    "collapsed": false,
    "ExecuteTime": {
     "start_time": "2024-03-30T09:16:17.397363Z"
    }
   },
   "id": "a40851859d2ffaf2",
   "execution_count": null
  },
  {
   "cell_type": "code",
   "outputs": [
    {
     "name": "stdout",
     "output_type": "stream",
     "text": [
      "Круги не обнаружены.\n"
     ]
    }
   ],
   "source": [
    "mean_color_lab = None\n",
    "if circles is not None:\n",
    "    circles = np.uint16(np.around(circles))\n",
    "    for circle in circles[0, :]:\n",
    "        x, y, r = circle\n",
    "        mask = np.zeros(gray.shape, dtype=\"uint8\")\n",
    "        cv2.circle(mask, (x, y), r // 2, 255, -1)\n",
    "        mean_val = cv2.mean(image_corrected, mask=mask)\n",
    "        lab_image = cv2.cvtColor(np.uint8([[mean_val[:3]]]), cv2.COLOR_BGR2Lab)[0][0]\n",
    "        print(\"Средний LAB цвет центральной части круга:\", lab_image)\n",
    "        mean_color_lab = lab_image\n",
    "else:\n",
    "    print(\"Круги не обнаружены.\")\n",
    "\n",
    "# Отображение изображения\n",
    "if circles is not None:\n",
    "    for circle in circles[0, :]:\n",
    "        x, y, r = circle\n",
    "        cv2.circle(image, (x, y), r, (0, 255, 0), 2)\n",
    "    plt.imshow(cv2.cvtColor(image, cv2.COLOR_BGR2RGB))\n",
    "    plt.show()"
   ],
   "metadata": {
    "collapsed": false,
    "ExecuteTime": {
     "end_time": "2024-03-30T09:18:12.467123Z",
     "start_time": "2024-03-30T09:18:12.440170Z"
    }
   },
   "id": "19d38c67d59e8c62",
   "execution_count": 10
  },
  {
   "cell_type": "code",
   "outputs": [],
   "source": [
    "# Словарь с данными\n",
    "test_samples_lab = {\n",
    "    (235, 223): 8.0,\n",
    "    (232, 217): 7.7,\n",
    "    (222, 221): 7.5,\n",
    "    (222, 226): 7.2,\n",
    "    (228, 234): 6.9,\n",
    "    (236, 232): 6.5,\n",
    "    (220, 235): 6.3,\n",
    "    (207, 234): 6.0,\n",
    "    (174, 234): 5.7,\n",
    "}\n"
   ],
   "metadata": {
    "collapsed": true,
    "ExecuteTime": {
     "end_time": "2024-03-30T09:18:13.015252Z",
     "start_time": "2024-03-30T09:18:12.994933Z"
    }
   },
   "id": "initial_id",
   "execution_count": 11
  },
  {
   "cell_type": "code",
   "outputs": [
    {
     "name": "stdout",
     "output_type": "stream",
     "text": [
      "Невозможно оценить pH: нет среднего цвета.\n"
     ]
    }
   ],
   "source": [
    "if mean_color_lab is not None:\n",
    "    points = np.array(list(test_samples_lab.keys()))\n",
    "    values = np.array(list(test_samples_lab.values()))\n",
    "    estimated_ph = griddata(points, values, [mean_color_lab], method='nearest')[0]\n",
    "    print(\"Оценочное значение pH:\", estimated_ph)\n",
    "else:\n",
    "    print(\"Невозможно оценить pH: нет среднего цвета.\")"
   ],
   "metadata": {
    "collapsed": false,
    "ExecuteTime": {
     "end_time": "2024-03-30T09:18:13.540075Z",
     "start_time": "2024-03-30T09:18:13.528837Z"
    }
   },
   "id": "a7b9095f17e5b1f3",
   "execution_count": 12
  },
  {
   "cell_type": "code",
   "outputs": [],
   "source": [],
   "metadata": {
    "collapsed": false
   },
   "id": "6c9b905ef9573eb1"
  }
 ],
 "metadata": {
  "kernelspec": {
   "display_name": "Python 3",
   "language": "python",
   "name": "python3"
  },
  "language_info": {
   "codemirror_mode": {
    "name": "ipython",
    "version": 2
   },
   "file_extension": ".py",
   "mimetype": "text/x-python",
   "name": "python",
   "nbconvert_exporter": "python",
   "pygments_lexer": "ipython2",
   "version": "2.7.6"
  }
 },
 "nbformat": 4,
 "nbformat_minor": 5
}
